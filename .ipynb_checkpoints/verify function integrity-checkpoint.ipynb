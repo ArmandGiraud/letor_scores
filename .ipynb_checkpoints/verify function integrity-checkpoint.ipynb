{
 "cells": [
  {
   "cell_type": "code",
   "execution_count": 1,
   "metadata": {
    "collapsed": true
   },
   "outputs": [],
   "source": [
    "%load_ext autoreload\n",
    "%autoreload 2\n",
    "from metrics import discounted_cumulative_gain, find_precision_k, find_recall_k, mean_reciprocal_rank"
   ]
  },
  {
   "cell_type": "code",
   "execution_count": 2,
   "metadata": {
    "collapsed": true
   },
   "outputs": [],
   "source": []
  },
  {
   "cell_type": "code",
   "execution_count": 9,
   "metadata": {},
   "outputs": [],
   "source": [
    "# no prediction should result in 0\n",
    "\n",
    "y_true = [\"a\",\"b\",\"c\",\"d\"]\n",
    "y_pred = []\n",
    "y_score = {\"a\": 4, \n",
    "           \"b\": 2,\n",
    "           \"c\": 2,\n",
    "           \"d\": 1}\n",
    "k = 3\n",
    "\n",
    "assert discounted_cumulative_gain(y_score, y_true, y_pred, k) == 0\n",
    "assert find_precision_k(y_pred, y_true, k) == 0\n",
    "assert find_recall_k(y_pred, y_true, k) == 0\n",
    "assert mean_reciprocal_rank(y_pred, y_true) == 0.01\n",
    "\n",
    "# no relevant document in prediction should result in 0\n",
    "\n",
    "y_true = [\"a\",\"b\",\"c\",\"d\"]\n",
    "y_pred = [\"e\",\"f\",\"g\",\"h\"]\n",
    "y_score = {\"a\": 4, \n",
    "           \"b\": 2,\n",
    "           \"c\": 2,\n",
    "           \"d\": 1}\n",
    "k = 3\n",
    "assert discounted_cumulative_gain(y_score, y_true, y_pred, k) == 0\n",
    "assert find_precision_k(y_pred, y_true, k) == 0\n",
    "assert find_recall_k(y_pred, y_true, k) == 0\n",
    "assert mean_reciprocal_rank(y_pred, y_true) == 0.01\n",
    "\n",
    "# more documents than k should have identical results\n",
    "\n",
    "y_true = [\"a\",\"b\",\"c\",\"d\"]\n",
    "y_pred = [\"a\",\"f\",\"c\",\"h\"]\n",
    "y_pred_long = [\"a\",\"f\",\"c\",\"h\", \"d\", \"b\"]\n",
    "\n",
    "y_score = {\"a\": 4, \n",
    "           \"b\": 2,\n",
    "           \"c\": 2,\n",
    "           \"d\": 1}\n",
    "\n",
    "k = 3\n",
    "assert discounted_cumulative_gain(y_score, y_true, y_pred, k) == discounted_cumulative_gain(y_score, y_true, y_pred_long, k)\n",
    "assert find_precision_k(y_pred, y_true, k) == find_precision_k(y_pred_long, y_true, k)\n",
    "assert find_recall_k(y_pred, y_true, k) == find_recall_k(y_pred_long, y_true, k)\n",
    "assert mean_reciprocal_rank(y_pred, y_true) == mean_reciprocal_rank(y_pred_long, y_true)\n",
    "\n",
    "# assert better ranking give better scores...\n",
    "\n",
    "y_true = [\"a\",\"b\",\"c\",\"d\"]\n",
    "y_pred_good = [\"a\",\"b\",\"c\",\"e\"]\n",
    "y_pred_bad = [\"a\",\"c\",\"b\"]\n",
    "\n",
    "y_score = {\"a\": 4, \n",
    "           \"b\": 2,\n",
    "           \"c\": 2,\n",
    "           \"d\": 1}\n",
    "\n",
    "assert discounted_cumulative_gain(y_score, y_true, y_pred, k)\n",
    "\n",
    "# assert too high k , gives good results"
   ]
  },
  {
   "cell_type": "code",
   "execution_count": 6,
   "metadata": {},
   "outputs": [
    {
     "data": {
      "text/plain": [
       "0.01"
      ]
     },
     "execution_count": 6,
     "metadata": {},
     "output_type": "execute_result"
    }
   ],
   "source": [
    "mean_reciprocal_rank(y_pred, y_true)"
   ]
  },
  {
   "cell_type": "code",
   "execution_count": 28,
   "metadata": {},
   "outputs": [],
   "source": [
    "discounted_cumulative_gain?"
   ]
  },
  {
   "cell_type": "code",
   "execution_count": 10,
   "metadata": {},
   "outputs": [
    {
     "ename": "TypeError",
     "evalue": "discounted_cumulative_gain() missing 2 required positional arguments: 'y_pred' and 'k'",
     "output_type": "error",
     "traceback": [
      "\u001b[0;31m---------------------------------------------------------------------------\u001b[0m",
      "\u001b[0;31mTypeError\u001b[0m                                 Traceback (most recent call last)",
      "\u001b[0;32m<ipython-input-10-85c26a012496>\u001b[0m in \u001b[0;36m<module>\u001b[0;34m()\u001b[0m\n\u001b[0;32m----> 1\u001b[0;31m \u001b[0mdiscounted_cumulative_gain\u001b[0m\u001b[0;34m(\u001b[0m\u001b[0;34m[\u001b[0m\u001b[0;36m0\u001b[0m\u001b[0;34m,\u001b[0m\u001b[0;36m0\u001b[0m\u001b[0;34m,\u001b[0m\u001b[0;36m0\u001b[0m\u001b[0;34m,\u001b[0m\u001b[0;36m0\u001b[0m\u001b[0;34m]\u001b[0m\u001b[0;34m,\u001b[0m \u001b[0;36m10\u001b[0m\u001b[0;34m)\u001b[0m\u001b[0;34m\u001b[0m\u001b[0m\n\u001b[0m",
      "\u001b[0;31mTypeError\u001b[0m: discounted_cumulative_gain() missing 2 required positional arguments: 'y_pred' and 'k'"
     ]
    }
   ],
   "source": []
  },
  {
   "cell_type": "code",
   "execution_count": null,
   "metadata": {
    "collapsed": true
   },
   "outputs": [],
   "source": []
  }
 ],
 "metadata": {
  "kernelspec": {
   "display_name": "Python [conda env:anaconda3]",
   "language": "python",
   "name": "conda-env-anaconda3-py"
  },
  "language_info": {
   "codemirror_mode": {
    "name": "ipython",
    "version": 3
   },
   "file_extension": ".py",
   "mimetype": "text/x-python",
   "name": "python",
   "nbconvert_exporter": "python",
   "pygments_lexer": "ipython3",
   "version": "3.6.3"
  }
 },
 "nbformat": 4,
 "nbformat_minor": 2
}
