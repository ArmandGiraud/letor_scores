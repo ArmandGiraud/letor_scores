{
 "cells": [
  {
   "cell_type": "code",
   "execution_count": 1,
   "metadata": {
    "collapsed": true
   },
   "outputs": [],
   "source": [
    "%load_ext autoreload\n",
    "%autoreload 2\n",
    "from metrics import discounted_cumulative_gain, find_precision_k, find_recall_k, mean_reciprocal_rank"
   ]
  },
  {
   "cell_type": "code",
   "execution_count": 42,
   "metadata": {},
   "outputs": [],
   "source": [
    "# no prediction should result in 0\n",
    "\n",
    "y_true = [\"a\",\"b\",\"c\",\"d\"]\n",
    "y_pred = []\n",
    "y_score = {\"a\": 4, \n",
    "           \"b\": 2,\n",
    "           \"c\": 2,\n",
    "           \"d\": 1}\n",
    "k = 3\n",
    "\n",
    "assert discounted_cumulative_gain(y_score, y_true, y_pred, k) == 0\n",
    "assert find_precision_k(y_pred, y_true, k) == 0\n",
    "assert find_recall_k(y_pred, y_true, k) == 0\n",
    "assert mean_reciprocal_rank(y_pred, y_true) == 0.01\n",
    "\n",
    "# no relevant document in prediction should result in 0\n",
    "\n",
    "y_true = [\"a\",\"b\",\"c\",\"d\"]\n",
    "y_pred = [\"e\",\"f\",\"g\",\"h\"]\n",
    "y_score = {\"a\": 4, \n",
    "           \"b\": 2,\n",
    "           \"c\": 2,\n",
    "           \"d\": 1}\n",
    "k = 3\n",
    "assert discounted_cumulative_gain(y_score, y_true, y_pred, k) == 0\n",
    "assert find_precision_k(y_pred, y_true, k) == 0\n",
    "assert find_recall_k(y_pred, y_true, k) == 0\n",
    "assert mean_reciprocal_rank(y_pred, y_true) == 0.01\n",
    "\n",
    "# more documents than k should have identical results\n",
    "\n",
    "y_true = [\"a\",\"b\",\"c\",\"d\"]\n",
    "y_pred = [\"a\",\"f\",\"c\",\"h\"]\n",
    "y_pred_long = [\"a\",\"f\",\"c\",\"h\", \"d\", \"b\"]\n",
    "\n",
    "y_score = {\"a\": 4, \n",
    "           \"b\": 2,\n",
    "           \"c\": 2,\n",
    "           \"d\": 1}\n",
    "\n",
    "k = 3\n",
    "assert discounted_cumulative_gain(y_score, y_true, y_pred, k) == discounted_cumulative_gain(y_score, y_true, y_pred_long, k)\n",
    "assert find_precision_k(y_pred, y_true, k) == find_precision_k(y_pred_long, y_true, k)\n",
    "assert find_recall_k(y_pred, y_true, k) == find_recall_k(y_pred_long, y_true, k)\n",
    "assert mean_reciprocal_rank(y_pred, y_true) == mean_reciprocal_rank(y_pred_long, y_true)\n",
    "\n",
    "# assert better ranking give better scores...\n",
    "\n",
    "y_true = [\"a\",\"b\",\"c\",\"d\"]\n",
    "y_pred_good = [\"a\",\"b\",\"d\"]\n",
    "y_pred_bad = [\"e\",\"a\",\"b\",\"d\"]\n",
    "\n",
    "y_score = {\"a\": 4, \n",
    "           \"b\": 2,\n",
    "           \"c\": 2,\n",
    "           \"d\": 1}\n",
    "\n",
    "assert discounted_cumulative_gain(y_score, y_true, y_pred_good, k) > discounted_cumulative_gain(y_score, y_true, y_pred_bad, k)\n",
    "assert find_precision_k(y_pred_good, y_true, k) > find_precision_k(y_pred_bad, y_true, k)\n",
    "assert find_recall_k(y_pred_good, y_true, k) > find_recall_k(y_pred_bad, y_true, k)\n",
    "assert mean_reciprocal_rank(y_pred_good, y_true) > mean_reciprocal_rank(y_pred_bad, y_true)\n",
    "\n",
    "# assert too high k causes no error\n",
    "\n",
    "k = 5\n",
    "assert discounted_cumulative_gain(y_score, y_true, y_pred_good, k)\n",
    "assert find_precision_k(y_pred_good, y_true, k) \n",
    "assert find_recall_k(y_pred_good, y_true, k)\n",
    "assert mean_reciprocal_rank(y_pred_good, y_true)\n",
    "\n",
    "# assert ideal DCG is computed correctly: normalization makes effect\n",
    "\n",
    "y_true = [\"a\"] # one good result with value 1 should yield\n",
    "y_pred = [\"a\",\"b\",\"d\"]\n",
    "\n",
    "y_score_high = {\n",
    "    \"a\": 5,\n",
    "    \"e\": 8 # simultaneously assert e has no impact\n",
    "}\n",
    "y_score_low = {\n",
    "    \"a\": 1\n",
    "}\n",
    "k = 3\n",
    "\n",
    "import numpy as np\n",
    "A = discounted_cumulative_gain(y_score_high, y_true, y_pred, k)\n",
    "B = discounted_cumulative_gain(y_score_low, y_true, y_pred, k)\n",
    "np.testing.assert_almost_equal(A, B) # \n",
    "\n",
    "# assert DCG relative scores \n",
    "\n",
    "y_true = [\"a\", \"b\"] # one good result with value 1 should yield\n",
    "y_pred = [\"a\",\"b\"]\n",
    "\n",
    "y_score_high = {\n",
    "    \"a\": 5,\n",
    "    \"b\": 3,\n",
    "    \"c\": 5\n",
    "}\n",
    "y_score_low = {\n",
    "    \"a\": 3,\n",
    "    \"b\": 2,\n",
    "    \"c\": 5\n",
    "}\n",
    "k = 3\n",
    "\n",
    "A = discounted_cumulative_gain(y_score_high, y_true, y_pred, k)\n",
    "B = discounted_cumulative_gain(y_score_low, y_true, y_pred, k)\n",
    "assert A == B == 1\n",
    "\n",
    "# assert perfect results:\n",
    "#perfect recall: all relevant documents found\n",
    "k = 5\n",
    "y_true = [\"a\", \"b\"] # one good result with value 1 should yield\n",
    "y_pred = [\"a\",\"e\", \"f\", \"g\", \"b\"]\n",
    "\n",
    "assert find_recall_k(y_pred, y_true, 5) == 1\n",
    "assert find_precision_k(y_pred, y_true, 5) != 1\n",
    "\n",
    "# former assertions still valid\n",
    "assert find_recall_k([1, 2, 3], [1], k = 1) == 1\n",
    "assert find_recall_k([1, 2, 3], [9], k = 1) == 0\n",
    "assert find_recall_k([1, 2, 3], [1], k = 3) == 1\n",
    "assert find_recall_k([1, 2, 3], [3, 1], k = 1) == 1/2\n",
    "assert find_recall_k([1, 2, 3], [3, 1, 4], k = 2) == 1/3\n",
    "\n",
    "# perfect precision:\n",
    "k = 2\n",
    "y_true = [\"a\",\"e\", \"f\", \"g\", \"b\"] # one good result with value 1 should yield\n",
    "y_pred = [\"a\", \"g\"]\n",
    "\n",
    "assert find_precision_k(y_pred, y_true, 5) == 1\n",
    "assert find_recall_k(y_pred, y_true, 5) != 1\n",
    "\n",
    "assert find_precision_k([1,2,3], [1], 3) == 1/3\n",
    "assert find_precision_k([1], [1], 3) == 1\n",
    "assert find_precision_k([1, 2], [2, 1], 3) == find_precision_k([2, 1], [1, 2], 3) == 1\n",
    "\n",
    "# assert dcg  is not messed by additional results\n",
    "\n",
    "y_true = [\"a\", \"w\"] # one good result with value 1 should yield\n",
    "y_pred_good = [\"d\", \"a\",\"w\"]\n",
    "y_pred_bad = [\"d\",\"w\",\"a\"]\n",
    "\n",
    "y_score = {\"a\": 5, \"w\":3}\n",
    "\n",
    "assert discounted_cumulative_gain(y_score, y_true, y_pred_good, k) > discounted_cumulative_gain(y_score, y_true, y_pred_bad, k)\n",
    "\n",
    "\n",
    "y_true = [\"a\"] # one good result on first place should be ideal\n",
    "y_pred = [\"a\",\"b\",\"d\"]\n",
    "\n",
    "y_score = {\"a\": 5}\n",
    "assert discounted_cumulative_gain(y_score, y_true, y_pred, k) == 1\n",
    "\n",
    "\n",
    "# assert y_true is sorted\n",
    "\n",
    "y_true_unsorted = ['a', \"c\", \"b\"]\n",
    "y_true_sorted = ['a', \"b\", \"c\"]\n",
    "y_pred = [\"a\", \"b\", 'w']\n",
    "y_score = {\"a\": 3, \n",
    "           \"b\": 2,\n",
    "           \"c\": 1}\n",
    "\n",
    "assert discounted_cumulative_gain(y_score, y_true_sorted, y_pred, k) == discounted_cumulative_gain(y_score, y_true_unsorted, y_pred, k)\n",
    "\n"
   ]
  },
  {
   "cell_type": "code",
   "execution_count": 41,
   "metadata": {},
   "outputs": [],
   "source": [
    "y_true = [\"a\", \"w\"] # one good result with value 1 should yield\n",
    "y_pred_good = [\"d\", \"a\",\"w\"]\n",
    "y_pred_bad = [\"d\",\"w\",\"a\"]\n",
    "\n",
    "y_score = {\"a\": 1, \"w\":3}\n",
    "\n",
    "assert discounted_cumulative_gain(y_score, y_true, y_pred_good, k) > discounted_cumulative_gain(y_score, y_true, y_pred_bad, k)"
   ]
  },
  {
   "cell_type": "code",
   "execution_count": 17,
   "metadata": {},
   "outputs": [
    {
     "name": "stdout",
     "output_type": "stream",
     "text": [
      "[3]\n",
      "1.3333333333333333\n",
      "3.0\n"
     ]
    },
    {
     "data": {
      "text/plain": [
       "0.4444444444444444"
      ]
     },
     "execution_count": 17,
     "metadata": {},
     "output_type": "execute_result"
    }
   ],
   "source": [
    "discounted_cumulative_gain(y_score_low, y_true, y_pred, 6)\n"
   ]
  },
  {
   "cell_type": "code",
   "execution_count": 24,
   "metadata": {},
   "outputs": [],
   "source": [
    "def compute_dcg(y_scoring, k):\n",
    "    dcg = []\n",
    "    for i, pred in enumerate(y_scoring[:k]):\n",
    "        i+=1\n",
    "        dcg.append(pred/(np.log2(i)+1))\n",
    "    return np.mean(dcg)"
   ]
  },
  {
   "cell_type": "code",
   "execution_count": 28,
   "metadata": {},
   "outputs": [
    {
     "data": {
      "text/plain": [
       "0.33333333333333337"
      ]
     },
     "execution_count": 28,
     "metadata": {},
     "output_type": "execute_result"
    }
   ],
   "source": [
    "compute_dcg([5, 0, 0], 3)/5"
   ]
  },
  {
   "cell_type": "code",
   "execution_count": null,
   "metadata": {
    "collapsed": true
   },
   "outputs": [],
   "source": []
  }
 ],
 "metadata": {
  "kernelspec": {
   "display_name": "Python [conda env:anaconda3]",
   "language": "python",
   "name": "conda-env-anaconda3-py"
  }
 },
 "nbformat": 4,
 "nbformat_minor": 2
}
